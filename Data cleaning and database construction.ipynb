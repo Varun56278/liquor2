{
 "cells": [
  {
   "cell_type": "code",
   "execution_count": 54,
   "metadata": {},
   "outputs": [],
   "source": [
    "import numpy as np\n",
    "import pandas as pd\n",
    "import matplotlib.pyplot as plt\n",
    "import seaborn as sns"
   ]
  },
  {
   "cell_type": "code",
   "execution_count": 55,
   "metadata": {},
   "outputs": [],
   "source": [
    "raw = pd.read_csv('data/Iowa_Liquor_Sales.csv',dtype={'Zip Code': object, 'Item Number': object}, parse_dates=['Date'])"
   ]
  },
  {
   "cell_type": "code",
   "execution_count": 56,
   "metadata": {},
   "outputs": [],
   "source": [
    "pd.set_option('display.max_columns',None)\n",
    "pd.set_option('display.max_rows',None)"
   ]
  },
  {
   "cell_type": "code",
   "execution_count": 57,
   "metadata": {},
   "outputs": [],
   "source": [
    "# # Item Number and Zip Code to string\n",
    "# # Date to datetime\n",
    "# raw['Zip Code'] = raw['Zip Code'].apply(str)\n",
    "# raw['Item Number'] = raw['Item Number'].apply(str)\n"
   ]
  },
  {
   "cell_type": "markdown",
   "metadata": {},
   "source": [
    "# Product"
   ]
  },
  {
   "cell_type": "code",
   "execution_count": 58,
   "metadata": {},
   "outputs": [
    {
     "name": "stderr",
     "output_type": "stream",
     "text": [
      "<ipython-input-58-085711850bfe>:3: SettingWithCopyWarning: \n",
      "A value is trying to be set on a copy of a slice from a DataFrame.\n",
      "Try using .loc[row_indexer,col_indexer] = value instead\n",
      "\n",
      "See the caveats in the documentation: https://pandas.pydata.org/pandas-docs/stable/user_guide/indexing.html#returning-a-view-versus-a-copy\n",
      "  product['Category Name'] = product['Category Name'].str.lower()\n",
      "<ipython-input-58-085711850bfe>:4: SettingWithCopyWarning: \n",
      "A value is trying to be set on a copy of a slice from a DataFrame.\n",
      "Try using .loc[row_indexer,col_indexer] = value instead\n",
      "\n",
      "See the caveats in the documentation: https://pandas.pydata.org/pandas-docs/stable/user_guide/indexing.html#returning-a-view-versus-a-copy\n",
      "  product['Item Description'] = product['Item Description'].str.lower()\n"
     ]
    }
   ],
   "source": [
    "# Product df\n",
    "product = raw[['Item Number', 'Item Description', 'Category', 'Category Name', 'Pack', 'Bottle Volume (ml)']]\n",
    "product['Category Name'] = product['Category Name'].str.lower()\n",
    "product['Item Description'] = product['Item Description'].str.lower()"
   ]
  },
  {
   "cell_type": "code",
   "execution_count": 59,
   "metadata": {},
   "outputs": [],
   "source": [
    "# Clean up Item Number to Category ID mapping "
   ]
  },
  {
   "cell_type": "code",
   "execution_count": 60,
   "metadata": {},
   "outputs": [],
   "source": [
    "# Item being mapped to multiple categories?  -- use the majority category \n",
    "\n",
    "prod_cat = product.groupby(['Item Number']).agg({'Category': 'value_counts'}).rename(columns = {'Category': 'Category Count'})\n",
    "prod_cat = prod_cat.reset_index()\n",
    "prod_cat['Rank'] = prod_cat.groupby('Item Number')['Category Count'].rank(ascending = False)\n",
    "prod_cat_unique = prod_cat[prod_cat['Rank']==1]"
   ]
  },
  {
   "cell_type": "code",
   "execution_count": 61,
   "metadata": {},
   "outputs": [],
   "source": [
    "product = pd.merge(product, prod_cat_unique, how = 'left', on = 'Item Number')\n",
    "product.drop(['Category_x', 'Category Count', 'Rank'], axis=1, inplace=True)\n",
    "product.rename(columns = {'Category_y': 'Category'}, inplace=True)"
   ]
  },
  {
   "cell_type": "code",
   "execution_count": 62,
   "metadata": {},
   "outputs": [],
   "source": [
    "# Clean up category name so that category ID and category name has unique mapping \n",
    "cat_group = product.groupby(['Category', 'Category Name'])['Item Number'].count().reset_index().rename(columns = {'Item Number': 'count'})\n",
    "cat_group['rank'] = cat_group.groupby('Category')['count'].rank(ascending = False)\n",
    "cat_group_unique = cat_group[cat_group['rank'] == 1]"
   ]
  },
  {
   "cell_type": "code",
   "execution_count": 63,
   "metadata": {},
   "outputs": [],
   "source": [
    "# Check 1031200.0\n",
    "product = pd.merge(product, cat_group_unique, how = 'left', on = 'Category')\n",
    "product.drop(['Category Name_x', 'count', 'rank'], axis=1, inplace = True)\n",
    "product.rename(columns = {'Category Name_y': 'Category Name'}, inplace=True )"
   ]
  },
  {
   "cell_type": "code",
   "execution_count": 64,
   "metadata": {},
   "outputs": [],
   "source": [
    "# Dealing with inconsistent product names - using the majority name \n",
    "prod_name = product.groupby('Item Number').agg({'Item Description': 'value_counts'})\n",
    "prod_name.rename(columns = {'Item Description': 'name count'}, inplace=True)\n",
    "prod_name.reset_index(inplace=True)\n",
    "prod_name['rank'] = prod_name.groupby('Item Number')['name count'].rank(ascending = False)\n",
    "prod_name_unique = prod_name[prod_name['rank']==1]"
   ]
  },
  {
   "cell_type": "code",
   "execution_count": 65,
   "metadata": {},
   "outputs": [],
   "source": [
    "product = pd.merge(product, prod_name_unique, how = 'left', on = 'Item Number')\n",
    "product.drop(['Item Description_x', 'name count', 'rank'], axis=1, inplace=True)\n",
    "product.rename(columns = {'Item Description_y': 'Item Description'}, inplace=True)"
   ]
  },
  {
   "cell_type": "code",
   "execution_count": 66,
   "metadata": {},
   "outputs": [],
   "source": [
    "# How to deal with inconsistent pack and bottle volume? \n",
    "# - Drop pack, not useful for our analysis \n",
    "# Keep the majority bottle volume "
   ]
  },
  {
   "cell_type": "code",
   "execution_count": 67,
   "metadata": {},
   "outputs": [],
   "source": [
    "bottle_vol = product.groupby('Item Number').agg({'Bottle Volume (ml)': 'value_counts'}).rename(columns = {'Bottle Volume (ml)': 'count'}).reset_index()\n",
    "bottle_vol['rank'] = bottle_vol.groupby('Item Number')['count'].rank(ascending = False)\n",
    "bottle_vol_unique = bottle_vol[bottle_vol['rank'] == 1]"
   ]
  },
  {
   "cell_type": "code",
   "execution_count": 68,
   "metadata": {},
   "outputs": [],
   "source": [
    "product = pd.merge(product, bottle_vol_unique, how = 'left', on = 'Item Number')\n",
    "# product.drop(['Bottle Volume (ml)_x', 'count', 'rank'], axis=1, inplace= True)\n",
    "product.rename(columns = {'Bottle Volume (ml)_y': 'Bottle Volume (ml)'}, inplace= True)\n",
    "product.drop(['Bottle Volume (ml)_x', 'count', 'rank'], axis=1, inplace = True)\n",
    "product.drop(['Pack'], axis=1, inplace=True)\n",
    "product_clean = product.drop_duplicates(subset=None, keep='first', inplace=False, ignore_index=True)"
   ]
  },
  {
   "cell_type": "code",
   "execution_count": 69,
   "metadata": {},
   "outputs": [
    {
     "data": {
      "text/html": [
       "<div>\n",
       "<style scoped>\n",
       "    .dataframe tbody tr th:only-of-type {\n",
       "        vertical-align: middle;\n",
       "    }\n",
       "\n",
       "    .dataframe tbody tr th {\n",
       "        vertical-align: top;\n",
       "    }\n",
       "\n",
       "    .dataframe thead th {\n",
       "        text-align: right;\n",
       "    }\n",
       "</style>\n",
       "<table border=\"1\" class=\"dataframe\">\n",
       "  <thead>\n",
       "    <tr style=\"text-align: right;\">\n",
       "      <th></th>\n",
       "      <th>Item Number</th>\n",
       "      <th>Category</th>\n",
       "      <th>Category Name</th>\n",
       "      <th>Item Description</th>\n",
       "      <th>Bottle Volume (ml)</th>\n",
       "    </tr>\n",
       "  </thead>\n",
       "  <tbody>\n",
       "    <tr>\n",
       "      <th>0</th>\n",
       "      <td>36978</td>\n",
       "      <td>1031080.0</td>\n",
       "      <td>vodka 80 proof</td>\n",
       "      <td>nikolai vodka</td>\n",
       "      <td>1750.0</td>\n",
       "    </tr>\n",
       "    <tr>\n",
       "      <th>1</th>\n",
       "      <td>24453</td>\n",
       "      <td>1011100.0</td>\n",
       "      <td>blended whiskies</td>\n",
       "      <td>kessler blend whiskey</td>\n",
       "      <td>200.0</td>\n",
       "    </tr>\n",
       "    <tr>\n",
       "      <th>2</th>\n",
       "      <td>41989</td>\n",
       "      <td>1031200.0</td>\n",
       "      <td>vodka flavored</td>\n",
       "      <td>uv cake vodka</td>\n",
       "      <td>750.0</td>\n",
       "    </tr>\n",
       "    <tr>\n",
       "      <th>3</th>\n",
       "      <td>15248</td>\n",
       "      <td>1012100.0</td>\n",
       "      <td>canadian whiskies</td>\n",
       "      <td>windsor canadian pet</td>\n",
       "      <td>1750.0</td>\n",
       "    </tr>\n",
       "    <tr>\n",
       "      <th>4</th>\n",
       "      <td>43410</td>\n",
       "      <td>1062300.0</td>\n",
       "      <td>flavored rum</td>\n",
       "      <td>captain morgan parrot bay coconut</td>\n",
       "      <td>750.0</td>\n",
       "    </tr>\n",
       "  </tbody>\n",
       "</table>\n",
       "</div>"
      ],
      "text/plain": [
       "  Item Number   Category      Category Name  \\\n",
       "0       36978  1031080.0     vodka 80 proof   \n",
       "1       24453  1011100.0   blended whiskies   \n",
       "2       41989  1031200.0     vodka flavored   \n",
       "3       15248  1012100.0  canadian whiskies   \n",
       "4       43410  1062300.0       flavored rum   \n",
       "\n",
       "                    Item Description  Bottle Volume (ml)  \n",
       "0                      nikolai vodka              1750.0  \n",
       "1              kessler blend whiskey               200.0  \n",
       "2                      uv cake vodka               750.0  \n",
       "3               windsor canadian pet              1750.0  \n",
       "4  captain morgan parrot bay coconut               750.0  "
      ]
     },
     "execution_count": 69,
     "metadata": {},
     "output_type": "execute_result"
    }
   ],
   "source": [
    "product_clean.head()"
   ]
  },
  {
   "cell_type": "code",
   "execution_count": 70,
   "metadata": {},
   "outputs": [],
   "source": [
    "# proof\n",
    "proof = pd.read_csv('data/Iowa_Liquor_Products.csv')\n",
    "proof = proof[['Item Number', 'Proof']]\n",
    "proof['Item Number'] =proof['Item Number'].apply(str) \n",
    "product_clean = pd.merge(product_clean, proof, how = 'left', on = 'Item Number')\n",
    "#product_clean.to_csv(\"product_clean.csv\")"
   ]
  },
  {
   "cell_type": "code",
   "execution_count": 71,
   "metadata": {},
   "outputs": [],
   "source": [
    "# add category new\n",
    "data = product_clean"
   ]
  },
  {
   "cell_type": "code",
   "execution_count": 72,
   "metadata": {},
   "outputs": [],
   "source": [
    "data['Item Description'] = data['Item Description'].apply(str)\n",
    "data['Category Name'] = data['Category Name'].apply(str)"
   ]
  },
  {
   "cell_type": "code",
   "execution_count": 73,
   "metadata": {},
   "outputs": [],
   "source": [
    "data['category_new'] = np.where(data['Category Name'].str.contains('vodka'),'vodka',\n",
    "                       np.where(data['Category Name'].str.contains('whisk|bourbon|scotch'),'whisky', \n",
    "                        np.where(data['Category Name'].str.contains('rum'), 'rum',\n",
    "                        np.where(data['Category Name'].str.contains('cocktail'), 'cocktails',\n",
    "                        np.where(data['Category Name'].str.contains('tequila|mezcal'), 'tequila',\n",
    "                        np.where(data['Category Name'].str.contains('schnapps'), 'schnapps',\n",
    "                        np.where(data['Category Name'].str.contains('gins'), 'gin',\n",
    "                        np.where(data['Category Name'].str.contains('brandies'), 'brandy',\n",
    "                        np.where(data['Category Name'].str.contains('liqueur|triple|creme|amaretto|anisette'), 'liqueur', 'other')))))))))"
   ]
  },
  {
   "cell_type": "code",
   "execution_count": 74,
   "metadata": {
    "scrolled": true
   },
   "outputs": [
    {
     "data": {
      "text/plain": [
       "array([], dtype=object)"
      ]
     },
     "execution_count": 74,
     "metadata": {},
     "output_type": "execute_result"
    }
   ],
   "source": [
    "data[data.category_new == 'distilled spirits']['Category Name'].unique()"
   ]
  },
  {
   "cell_type": "code",
   "execution_count": 75,
   "metadata": {},
   "outputs": [
    {
     "data": {
      "text/plain": [
       "array([], dtype=object)"
      ]
     },
     "execution_count": 75,
     "metadata": {},
     "output_type": "execute_result"
    }
   ],
   "source": [
    "data[data.category_new == 'distilled spirits']['Item Description'].unique()"
   ]
  },
  {
   "cell_type": "code",
   "execution_count": 76,
   "metadata": {},
   "outputs": [],
   "source": [
    "data.loc[data['category_new']=='other', 'category_new'] = np.where(data.loc[data['category_new']=='other']['Item Description'].str.contains('vodka'),'vodka',\n",
    "                       np.where(data.loc[data['category_new']=='other']['Item Description'].str.contains('whisk|bourbon|scotch'),'whisky', \n",
    "                        np.where(data.loc[data['category_new']=='other']['Item Description'].str.contains('rum'), 'rum',\n",
    "                        np.where(data.loc[data['category_new']=='other']['Item Description'].str.contains('cocktail'), 'cocktails',\n",
    "                        np.where(data.loc[data['category_new']=='other']['Item Description'].str.contains('tequila|mezcal'), 'tequila',\n",
    "                        np.where(data.loc[data['category_new']=='other']['Item Description'].str.contains('schnapps'), 'schnapps',\n",
    "                        np.where(data.loc[data['category_new']=='other']['Item Description'].str.contains('gins'), 'gin',\n",
    "                        np.where(data.loc[data['category_new']=='other']['Item Description'].str.contains('brandies'), 'brandy',\n",
    "                        np.where(data.loc[data['category_new']=='other']['Item Description'].str.contains('liqueur|triple|creme|amaretto|anisette'), 'liqueur', 'other')))))))))\n"
   ]
  },
  {
   "cell_type": "code",
   "execution_count": 79,
   "metadata": {},
   "outputs": [
    {
     "data": {
      "text/html": [
       "<div>\n",
       "<style scoped>\n",
       "    .dataframe tbody tr th:only-of-type {\n",
       "        vertical-align: middle;\n",
       "    }\n",
       "\n",
       "    .dataframe tbody tr th {\n",
       "        vertical-align: top;\n",
       "    }\n",
       "\n",
       "    .dataframe thead th {\n",
       "        text-align: right;\n",
       "    }\n",
       "</style>\n",
       "<table border=\"1\" class=\"dataframe\">\n",
       "  <thead>\n",
       "    <tr style=\"text-align: right;\">\n",
       "      <th></th>\n",
       "      <th>Item Number</th>\n",
       "      <th>Category</th>\n",
       "      <th>Category Name</th>\n",
       "      <th>Item Description</th>\n",
       "      <th>Bottle Volume (ml)</th>\n",
       "      <th>Proof</th>\n",
       "      <th>category_new</th>\n",
       "      <th>imported</th>\n",
       "    </tr>\n",
       "  </thead>\n",
       "  <tbody>\n",
       "    <tr>\n",
       "      <th>0</th>\n",
       "      <td>36978</td>\n",
       "      <td>1031080.0</td>\n",
       "      <td>vodka 80 proof</td>\n",
       "      <td>nikolai vodka</td>\n",
       "      <td>1750.0</td>\n",
       "      <td>80.0</td>\n",
       "      <td>vodka</td>\n",
       "      <td>domestic</td>\n",
       "    </tr>\n",
       "    <tr>\n",
       "      <th>1</th>\n",
       "      <td>24453</td>\n",
       "      <td>1011100.0</td>\n",
       "      <td>blended whiskies</td>\n",
       "      <td>kessler blend whiskey</td>\n",
       "      <td>200.0</td>\n",
       "      <td>80.0</td>\n",
       "      <td>whisky</td>\n",
       "      <td>domestic</td>\n",
       "    </tr>\n",
       "    <tr>\n",
       "      <th>2</th>\n",
       "      <td>41989</td>\n",
       "      <td>1031200.0</td>\n",
       "      <td>vodka flavored</td>\n",
       "      <td>uv cake vodka</td>\n",
       "      <td>750.0</td>\n",
       "      <td>60.0</td>\n",
       "      <td>vodka</td>\n",
       "      <td>domestic</td>\n",
       "    </tr>\n",
       "    <tr>\n",
       "      <th>3</th>\n",
       "      <td>15248</td>\n",
       "      <td>1012100.0</td>\n",
       "      <td>canadian whiskies</td>\n",
       "      <td>windsor canadian pet</td>\n",
       "      <td>1750.0</td>\n",
       "      <td>80.0</td>\n",
       "      <td>whisky</td>\n",
       "      <td>domestic</td>\n",
       "    </tr>\n",
       "    <tr>\n",
       "      <th>4</th>\n",
       "      <td>43410</td>\n",
       "      <td>1062300.0</td>\n",
       "      <td>flavored rum</td>\n",
       "      <td>captain morgan parrot bay coconut</td>\n",
       "      <td>750.0</td>\n",
       "      <td>42.0</td>\n",
       "      <td>rum</td>\n",
       "      <td>domestic</td>\n",
       "    </tr>\n",
       "  </tbody>\n",
       "</table>\n",
       "</div>"
      ],
      "text/plain": [
       "  Item Number   Category      Category Name  \\\n",
       "0       36978  1031080.0     vodka 80 proof   \n",
       "1       24453  1011100.0   blended whiskies   \n",
       "2       41989  1031200.0     vodka flavored   \n",
       "3       15248  1012100.0  canadian whiskies   \n",
       "4       43410  1062300.0       flavored rum   \n",
       "\n",
       "                    Item Description  Bottle Volume (ml)  Proof category_new  \\\n",
       "0                      nikolai vodka              1750.0   80.0        vodka   \n",
       "1              kessler blend whiskey               200.0   80.0       whisky   \n",
       "2                      uv cake vodka               750.0   60.0        vodka   \n",
       "3               windsor canadian pet              1750.0   80.0       whisky   \n",
       "4  captain morgan parrot bay coconut               750.0   42.0          rum   \n",
       "\n",
       "   imported  \n",
       "0  domestic  \n",
       "1  domestic  \n",
       "2  domestic  \n",
       "3  domestic  \n",
       "4  domestic  "
      ]
     },
     "execution_count": 79,
     "metadata": {},
     "output_type": "execute_result"
    }
   ],
   "source": [
    "data.head()"
   ]
  },
  {
   "cell_type": "code",
   "execution_count": 78,
   "metadata": {},
   "outputs": [],
   "source": [
    "data['imported'] = np.where(data['Category Name'].str.contains('imported'), 'imported', 'domestic')"
   ]
  },
  {
   "cell_type": "code",
   "execution_count": 80,
   "metadata": {},
   "outputs": [],
   "source": [
    "data.rename(columns = {'Category': 'category_id', 'Category Name': 'category_name',\n",
    "                      'Item Description': 'product_name', 'Bottle Volume (ml)': 'bottle_vol_ml',\n",
    "                      'Proof': 'proof'}, inplace=True)"
   ]
  },
  {
   "cell_type": "code",
   "execution_count": 81,
   "metadata": {},
   "outputs": [],
   "source": [
    "product_clean = data\n",
    "product_clean.to_csv(\"product_clean.csv\",index_label=False)"
   ]
  },
  {
   "cell_type": "markdown",
   "metadata": {},
   "source": [
    "# Price "
   ]
  },
  {
   "cell_type": "code",
   "execution_count": 37,
   "metadata": {},
   "outputs": [],
   "source": [
    "price = raw[['Item Number', 'Date', 'State Bottle Retail', 'State Bottle Cost']]\n",
    "# price.groupby(['Item Number', 'Date']).head(1)\n",
    "product_price = price.groupby(['Item Number', 'Date']).agg({'State Bottle Retail':'mean','State Bottle Cost':'mean'})\n",
    "product_price.reset_index(inplace=True)\n"
   ]
  },
  {
   "cell_type": "code",
   "execution_count": 38,
   "metadata": {},
   "outputs": [
    {
     "data": {
      "text/html": [
       "<div>\n",
       "<style scoped>\n",
       "    .dataframe tbody tr th:only-of-type {\n",
       "        vertical-align: middle;\n",
       "    }\n",
       "\n",
       "    .dataframe tbody tr th {\n",
       "        vertical-align: top;\n",
       "    }\n",
       "\n",
       "    .dataframe thead th {\n",
       "        text-align: right;\n",
       "    }\n",
       "</style>\n",
       "<table border=\"1\" class=\"dataframe\">\n",
       "  <thead>\n",
       "    <tr style=\"text-align: right;\">\n",
       "      <th></th>\n",
       "      <th>Item Number</th>\n",
       "      <th>Date</th>\n",
       "      <th>State Bottle Retail</th>\n",
       "      <th>State Bottle Cost</th>\n",
       "    </tr>\n",
       "  </thead>\n",
       "  <tbody>\n",
       "    <tr>\n",
       "      <th>0</th>\n",
       "      <td>100001</td>\n",
       "      <td>2016-10-03</td>\n",
       "      <td>12.0</td>\n",
       "      <td>8.0</td>\n",
       "    </tr>\n",
       "    <tr>\n",
       "      <th>1</th>\n",
       "      <td>100001</td>\n",
       "      <td>2016-10-04</td>\n",
       "      <td>12.0</td>\n",
       "      <td>8.0</td>\n",
       "    </tr>\n",
       "    <tr>\n",
       "      <th>2</th>\n",
       "      <td>100001</td>\n",
       "      <td>2016-10-05</td>\n",
       "      <td>12.0</td>\n",
       "      <td>8.0</td>\n",
       "    </tr>\n",
       "    <tr>\n",
       "      <th>3</th>\n",
       "      <td>100001</td>\n",
       "      <td>2016-10-06</td>\n",
       "      <td>12.0</td>\n",
       "      <td>8.0</td>\n",
       "    </tr>\n",
       "    <tr>\n",
       "      <th>4</th>\n",
       "      <td>100001</td>\n",
       "      <td>2016-10-07</td>\n",
       "      <td>12.0</td>\n",
       "      <td>8.0</td>\n",
       "    </tr>\n",
       "  </tbody>\n",
       "</table>\n",
       "</div>"
      ],
      "text/plain": [
       "  Item Number       Date  State Bottle Retail  State Bottle Cost\n",
       "0      100001 2016-10-03                 12.0                8.0\n",
       "1      100001 2016-10-04                 12.0                8.0\n",
       "2      100001 2016-10-05                 12.0                8.0\n",
       "3      100001 2016-10-06                 12.0                8.0\n",
       "4      100001 2016-10-07                 12.0                8.0"
      ]
     },
     "execution_count": 38,
     "metadata": {},
     "output_type": "execute_result"
    }
   ],
   "source": [
    "product_price.head()"
   ]
  },
  {
   "cell_type": "code",
   "execution_count": 39,
   "metadata": {},
   "outputs": [],
   "source": [
    "product_price.to_csv(\"product_price_clean.csv\",index_label=False)"
   ]
  },
  {
   "cell_type": "markdown",
   "metadata": {},
   "source": [
    "# Vendors"
   ]
  },
  {
   "cell_type": "code",
   "execution_count": 40,
   "metadata": {
    "scrolled": true
   },
   "outputs": [],
   "source": [
    "# Clean Vendors Name\n",
    "Vendors = raw[['Vendor Number','Vendor Name']]\n"
   ]
  },
  {
   "cell_type": "code",
   "execution_count": 41,
   "metadata": {},
   "outputs": [],
   "source": [
    "Vendors_group = Vendors.groupby('Vendor Number').agg({'Vendor Name': 'value_counts'})\n",
    "Vendors_group.rename({'Vendor Name':'Vendor Count'},axis=1,inplace = True)\n",
    "Vendors_group = Vendors_group.reset_index()\n",
    "Vendors_group['rank'] = Vendors_group.groupby('Vendor Number')['Vendor Count'].rank(ascending = False)"
   ]
  },
  {
   "cell_type": "code",
   "execution_count": 42,
   "metadata": {},
   "outputs": [],
   "source": [
    "Vendors_final = Vendors_group[Vendors_group['rank'] == 1.0].drop(['Vendor Count','rank'],axis=1)"
   ]
  },
  {
   "cell_type": "code",
   "execution_count": 43,
   "metadata": {},
   "outputs": [
    {
     "data": {
      "text/html": [
       "<div>\n",
       "<style scoped>\n",
       "    .dataframe tbody tr th:only-of-type {\n",
       "        vertical-align: middle;\n",
       "    }\n",
       "\n",
       "    .dataframe tbody tr th {\n",
       "        vertical-align: top;\n",
       "    }\n",
       "\n",
       "    .dataframe thead th {\n",
       "        text-align: right;\n",
       "    }\n",
       "</style>\n",
       "<table border=\"1\" class=\"dataframe\">\n",
       "  <thead>\n",
       "    <tr style=\"text-align: right;\">\n",
       "      <th></th>\n",
       "      <th>Vendor Number</th>\n",
       "      <th>Vendor Name</th>\n",
       "    </tr>\n",
       "  </thead>\n",
       "  <tbody>\n",
       "    <tr>\n",
       "      <th>0</th>\n",
       "      <td>10.0</td>\n",
       "      <td>A Hardy / U.S.A., Ltd.</td>\n",
       "    </tr>\n",
       "    <tr>\n",
       "      <th>2</th>\n",
       "      <td>14.0</td>\n",
       "      <td>Adamba Imports Int'l, Inc.</td>\n",
       "    </tr>\n",
       "    <tr>\n",
       "      <th>3</th>\n",
       "      <td>27.0</td>\n",
       "      <td>Anheuser-Busch/Longtail Libations</td>\n",
       "    </tr>\n",
       "    <tr>\n",
       "      <th>4</th>\n",
       "      <td>33.0</td>\n",
       "      <td>Bmc Imports</td>\n",
       "    </tr>\n",
       "    <tr>\n",
       "      <th>6</th>\n",
       "      <td>35.0</td>\n",
       "      <td>Bacardi U.S.A., Inc.</td>\n",
       "    </tr>\n",
       "  </tbody>\n",
       "</table>\n",
       "</div>"
      ],
      "text/plain": [
       "   Vendor Number                        Vendor Name\n",
       "0           10.0             A Hardy / U.S.A., Ltd.\n",
       "2           14.0         Adamba Imports Int'l, Inc.\n",
       "3           27.0  Anheuser-Busch/Longtail Libations\n",
       "4           33.0                        Bmc Imports\n",
       "6           35.0               Bacardi U.S.A., Inc."
      ]
     },
     "execution_count": 43,
     "metadata": {},
     "output_type": "execute_result"
    }
   ],
   "source": [
    "Vendors_final.head()"
   ]
  },
  {
   "cell_type": "code",
   "execution_count": 45,
   "metadata": {},
   "outputs": [],
   "source": [
    "Vendors_final.to_csv('Vendors.csv',index_label=False)"
   ]
  },
  {
   "cell_type": "markdown",
   "metadata": {},
   "source": [
    "# Transactions"
   ]
  },
  {
   "cell_type": "code",
   "execution_count": 44,
   "metadata": {},
   "outputs": [],
   "source": [
    "Transcations = raw[['Invoice/Item Number','Store Number','Vendor Number','Item Number','Bottles Sold','Volume Sold (Liters)',\n",
    "                    'Sale (Dollars)','Date']]"
   ]
  },
  {
   "cell_type": "code",
   "execution_count": 45,
   "metadata": {},
   "outputs": [],
   "source": [
    "Transcations.columns = ['Transaction ID', 'Store Number', 'Vendor Number', 'Item Number',\n",
    "       'Bottles Sold', 'Volume Sold', 'Sale', 'Date']"
   ]
  },
  {
   "cell_type": "code",
   "execution_count": 54,
   "metadata": {},
   "outputs": [],
   "source": [
    "Transcations.to_csv('Transactions.csv',index_label=False)"
   ]
  },
  {
   "cell_type": "markdown",
   "metadata": {},
   "source": [
    "# Stores"
   ]
  },
  {
   "cell_type": "code",
   "execution_count": 48,
   "metadata": {},
   "outputs": [
    {
     "name": "stderr",
     "output_type": "stream",
     "text": [
      "D:\\anaconda\\lib\\site-packages\\pandas\\core\\indexing.py:671: SettingWithCopyWarning: \n",
      "A value is trying to be set on a copy of a slice from a DataFrame\n",
      "\n",
      "See the caveats in the documentation: https://pandas.pydata.org/pandas-docs/stable/user_guide/indexing.html#returning-a-view-versus-a-copy\n",
      "  self._setitem_with_indexer(indexer, value)\n"
     ]
    }
   ],
   "source": [
    "# Store df\n",
    "store = raw.loc[:,['Store Number', 'Store Name', 'Address', 'City', 'Zip Code', 'Store Location', 'County Number', 'County']]\n",
    "# lower case name\n",
    "store.loc[:,'Store Name'] = store['Store Name'].str.lower()\n",
    "store.loc[:,'Address'] = store['Address'].str.lower()\n",
    "store.loc[:,'City'] = store['City'].str.lower()\n",
    "store.loc[:,'County'] = store['County'].str.lower()\n",
    "\n",
    "# replace null with string so the NaN is not contagious\n",
    "store.replace(np.nan, 'missing', inplace = True)\n",
    "\n",
    "##### Deal with varying store names\n",
    "\n",
    "# Groupby store number and value count to get number of times store name matches to store number\n",
    "store_name = store.groupby(['Store Number']).agg({'Store Name': \n",
    "                                                  'value_counts'}).rename(columns = {'Store Name': \n",
    "                                                                                     'Name Count'}).reset_index()\n",
    "\n",
    "# rank the store names within each store number\n",
    "store_name['Rank'] = store_name.groupby('Store Number')['Name Count'].rank(ascending = False)\n",
    "\n",
    "# pick most frequent name\n",
    "store_name_unique = store_name.loc[store_name.Rank == 1].drop(['Name Count', \n",
    "                                                               'Rank'], axis=1)\n",
    "\n",
    "# drop columns from store\n",
    "store = store.drop(['Store Name'], axis=1)\n",
    "\n",
    "# join the ranked data to store df\n",
    "store = pd.merge(store, store_name_unique, how='left', \n",
    "                 on='Store Number')\n",
    "\n",
    "#### Deal with varying locations for each store number\n",
    "\n",
    "# Business could have moved over the years\n",
    "store_loc = store.groupby(['Store Number', \n",
    "                           'County', 'County Number', 'City', \n",
    "                           'Zip Code', 'Store Location']).agg({'Address': \n",
    "                                                               'value_counts'}).rename(columns = {'Address': \n",
    "                                                                                     'Address Count'}).reset_index()\n",
    "\n",
    "# rank all location info within each store number\n",
    "store_loc['Rank'] = store_loc.groupby('Store Number')['Address Count'].rank(ascending = False)\n",
    "\n",
    "# pick most frequent name\n",
    "store_loc_unique = store_loc.loc[store_loc.Rank == 1].drop(['Address Count', \n",
    "                                                            'Rank'], axis=1)\n",
    "\n",
    "# drop columns from store\n",
    "store = store.drop(['Address','City', 'Zip Code', 'Store Location', \n",
    "                    'County Number', 'County'], axis=1)\n",
    "\n",
    "# join the ranked data to store df\n",
    "store = pd.merge(store, store_loc_unique, how='left', \n",
    "                 on='Store Number')\n",
    "\n",
    "# Drop duplicates\n",
    "store = store.drop_duplicates()\n",
    "\n",
    "## Adding Store Types\n",
    "\n",
    "# Add column of zeros\n",
    "store['Store Type'] = np.zeros(store.shape[0])\n",
    "\n",
    "#### Categorize stores with string contains \n",
    "#- order matters here\n",
    "\n",
    "store['Store Type'].loc[store['Store Name'].str.contains(\n",
    "    \"food|market|super valu|saver|groc\")] = 'Other Grocery or Convenience'\n",
    "\n",
    "store['Store Type'].loc[store['Store Name'].str.contains(\n",
    "    \"econ-o-mart|mart|quik|pit stop|quick|kwik|general store|convenience|gas|circle k|petro|stop|casey's|country store|yesway|kum|7-eleven|station|express|fill r up|fuel|new star| go |the boonedocks\")] = 'Convenience Store'\n",
    "\n",
    "store['Store Type'].loc[store['Store Name'].str.contains(\n",
    "    \"hy-vee|wal-mart|fareway store|super mar|big g|sac city food pride|sam's club|supermarket|shop n save|grocery|target|dahl's|costco|whole foods|jeff's|hometown|mepo\")] = 'Supermarket'\n",
    "\n",
    "store['Store Type'].loc[store['Store Name'].str.contains(\n",
    "    \"liquor|spirits|tobacco|beverage|smoke|bottle|distil|wine|bootleg|northside one stop|beer|cigar|distrib|booze|brew|snuff|sauce\")] = 'Liquor Tobacco Store'\n",
    "\n",
    "store['Store Type'].loc[store['Store Name'].str.contains(\n",
    "    \"walgreens|cvs|drug\")] = 'Drug Store'\n",
    "\n",
    "store['Store Type'].loc[store['Store Name'].str.contains(\n",
    "    \"casino\")] = 'Casino'\n",
    "\n",
    "store['Store Type'].loc[store['Store Type']==0] = 'Other'"
   ]
  },
  {
   "cell_type": "code",
   "execution_count": 50,
   "metadata": {},
   "outputs": [],
   "source": [
    "store.to_csv('stores.csv',index_label=False)"
   ]
  },
  {
   "cell_type": "markdown",
   "metadata": {},
   "source": [
    "# Sqlite"
   ]
  },
  {
   "cell_type": "markdown",
   "metadata": {},
   "source": [
    "## Create liquor database"
   ]
  },
  {
   "cell_type": "code",
   "execution_count": 4,
   "metadata": {},
   "outputs": [
    {
     "name": "stderr",
     "output_type": "stream",
     "text": [
      "D:\\anaconda\\lib\\site-packages\\IPython\\core\\interactiveshell.py:3071: DtypeWarning: Columns (1) have mixed types.Specify dtype option on import or set low_memory=False.\n",
      "  has_raised = await self.run_ast_nodes(code_ast.body, cell_name,\n",
      "D:\\anaconda\\lib\\site-packages\\IPython\\core\\interactiveshell.py:3071: DtypeWarning: Columns (4) have mixed types.Specify dtype option on import or set low_memory=False.\n",
      "  has_raised = await self.run_ast_nodes(code_ast.body, cell_name,\n"
     ]
    }
   ],
   "source": [
    "# product_clean = pd.read_csv('product_clean.csv')\n",
    "# product_price = pd.read_csv('product_price_clean.csv')\n",
    "# Vendors_final = pd.read_csv('Vendors.csv')\n",
    "# Transcations = pd.read_csv('Transactions.csv')\n",
    "#store = pd.read_csv('stores.csv')"
   ]
  },
  {
   "cell_type": "markdown",
   "metadata": {},
   "source": [
    "### Insert store table"
   ]
  },
  {
   "cell_type": "code",
   "execution_count": 52,
   "metadata": {},
   "outputs": [
    {
     "name": "stderr",
     "output_type": "stream",
     "text": [
      "D:\\anaconda\\lib\\site-packages\\pandas\\core\\generic.py:2653: UserWarning: The spaces in these column names will not be changed. In pandas versions < 0.14, spaces were converted to underscores.\n",
      "  sql.to_sql(\n"
     ]
    }
   ],
   "source": [
    "import sqlite3\n",
    "# connect to sqlite\n",
    "conn = sqlite3.connect('liquor.db')\n",
    "# make a cursor\n",
    "cursor = conn.cursor()\n",
    "# make tables\n",
    "sql_query = '''CREATE TABLE stores(\n",
    "                   'Store Number' INTEGER PRIMARY KEY,\n",
    "                   'Store Name' varchar(250),\n",
    "                   'County' varchar(250),\n",
    "                   'County Number' varchar(250),\n",
    "                   'City' varchar(250),\n",
    "                   'Zip Code' varchar(250),\n",
    "                   'Store Location' varchar(250),\n",
    "                   'Address' varchar(250),\n",
    "                   'Store Type' varchar(250));'''\n",
    "# sql_query = 'DROP TABLE stores;'\n",
    "cursor.execute(sql_query)\n",
    "# insert data\n",
    "store.to_sql('stores',conn,if_exists='append',index=False)\n",
    "\n",
    "cursor.close()\n",
    "conn.close()"
   ]
  },
  {
   "cell_type": "code",
   "execution_count": 82,
   "metadata": {},
   "outputs": [
    {
     "data": {
      "text/plain": [
       "Index(['Item Number', 'category_id', 'category_name', 'product_name',\n",
       "       'bottle_vol_ml', 'proof', 'category_new', 'imported'],\n",
       "      dtype='object')"
      ]
     },
     "execution_count": 82,
     "metadata": {},
     "output_type": "execute_result"
    }
   ],
   "source": [
    "product_clean.columns"
   ]
  },
  {
   "cell_type": "code",
   "execution_count": 83,
   "metadata": {},
   "outputs": [
    {
     "data": {
      "text/html": [
       "<div>\n",
       "<style scoped>\n",
       "    .dataframe tbody tr th:only-of-type {\n",
       "        vertical-align: middle;\n",
       "    }\n",
       "\n",
       "    .dataframe tbody tr th {\n",
       "        vertical-align: top;\n",
       "    }\n",
       "\n",
       "    .dataframe thead th {\n",
       "        text-align: right;\n",
       "    }\n",
       "</style>\n",
       "<table border=\"1\" class=\"dataframe\">\n",
       "  <thead>\n",
       "    <tr style=\"text-align: right;\">\n",
       "      <th></th>\n",
       "      <th>Item Number</th>\n",
       "      <th>category_id</th>\n",
       "      <th>category_name</th>\n",
       "      <th>product_name</th>\n",
       "      <th>bottle_vol_ml</th>\n",
       "      <th>proof</th>\n",
       "      <th>category_new</th>\n",
       "      <th>imported</th>\n",
       "    </tr>\n",
       "  </thead>\n",
       "  <tbody>\n",
       "    <tr>\n",
       "      <th>0</th>\n",
       "      <td>36978</td>\n",
       "      <td>1031080.0</td>\n",
       "      <td>vodka 80 proof</td>\n",
       "      <td>nikolai vodka</td>\n",
       "      <td>1750.0</td>\n",
       "      <td>80.0</td>\n",
       "      <td>vodka</td>\n",
       "      <td>domestic</td>\n",
       "    </tr>\n",
       "    <tr>\n",
       "      <th>1</th>\n",
       "      <td>24453</td>\n",
       "      <td>1011100.0</td>\n",
       "      <td>blended whiskies</td>\n",
       "      <td>kessler blend whiskey</td>\n",
       "      <td>200.0</td>\n",
       "      <td>80.0</td>\n",
       "      <td>whisky</td>\n",
       "      <td>domestic</td>\n",
       "    </tr>\n",
       "    <tr>\n",
       "      <th>2</th>\n",
       "      <td>41989</td>\n",
       "      <td>1031200.0</td>\n",
       "      <td>vodka flavored</td>\n",
       "      <td>uv cake vodka</td>\n",
       "      <td>750.0</td>\n",
       "      <td>60.0</td>\n",
       "      <td>vodka</td>\n",
       "      <td>domestic</td>\n",
       "    </tr>\n",
       "    <tr>\n",
       "      <th>3</th>\n",
       "      <td>15248</td>\n",
       "      <td>1012100.0</td>\n",
       "      <td>canadian whiskies</td>\n",
       "      <td>windsor canadian pet</td>\n",
       "      <td>1750.0</td>\n",
       "      <td>80.0</td>\n",
       "      <td>whisky</td>\n",
       "      <td>domestic</td>\n",
       "    </tr>\n",
       "    <tr>\n",
       "      <th>4</th>\n",
       "      <td>43410</td>\n",
       "      <td>1062300.0</td>\n",
       "      <td>flavored rum</td>\n",
       "      <td>captain morgan parrot bay coconut</td>\n",
       "      <td>750.0</td>\n",
       "      <td>42.0</td>\n",
       "      <td>rum</td>\n",
       "      <td>domestic</td>\n",
       "    </tr>\n",
       "  </tbody>\n",
       "</table>\n",
       "</div>"
      ],
      "text/plain": [
       "  Item Number  category_id      category_name  \\\n",
       "0       36978    1031080.0     vodka 80 proof   \n",
       "1       24453    1011100.0   blended whiskies   \n",
       "2       41989    1031200.0     vodka flavored   \n",
       "3       15248    1012100.0  canadian whiskies   \n",
       "4       43410    1062300.0       flavored rum   \n",
       "\n",
       "                        product_name  bottle_vol_ml  proof category_new  \\\n",
       "0                      nikolai vodka         1750.0   80.0        vodka   \n",
       "1              kessler blend whiskey          200.0   80.0       whisky   \n",
       "2                      uv cake vodka          750.0   60.0        vodka   \n",
       "3               windsor canadian pet         1750.0   80.0       whisky   \n",
       "4  captain morgan parrot bay coconut          750.0   42.0          rum   \n",
       "\n",
       "   imported  \n",
       "0  domestic  \n",
       "1  domestic  \n",
       "2  domestic  \n",
       "3  domestic  \n",
       "4  domestic  "
      ]
     },
     "execution_count": 83,
     "metadata": {},
     "output_type": "execute_result"
    }
   ],
   "source": [
    "product_clean.head()"
   ]
  },
  {
   "cell_type": "markdown",
   "metadata": {},
   "source": [
    "### Insert products table"
   ]
  },
  {
   "cell_type": "code",
   "execution_count": 86,
   "metadata": {},
   "outputs": [
    {
     "name": "stderr",
     "output_type": "stream",
     "text": [
      "D:\\anaconda\\lib\\site-packages\\pandas\\core\\generic.py:2653: UserWarning: The spaces in these column names will not be changed. In pandas versions < 0.14, spaces were converted to underscores.\n",
      "  sql.to_sql(\n"
     ]
    }
   ],
   "source": [
    "import sqlite3\n",
    "# connect to sqlite\n",
    "conn = sqlite3.connect('liquor.db')\n",
    "# make a cursor\n",
    "cursor = conn.cursor()\n",
    "# make tables\n",
    "sql_query = '''CREATE TABLE products(\n",
    "                   'Item Number' varchar(50) PRIMARY KEY,\n",
    "                   'category_id' float(64),\n",
    "                   'category_name' varchar(50),\n",
    "                   'product_name' varchar(50),\n",
    "                   'bottle_vol_ml' float(64),\n",
    "                   'proof' float(64),\n",
    "                   'category_new' varchar(50),\n",
    "                   'imported' varchar(50)\n",
    "                   );'''\n",
    "#sql_query = 'DROP TABLE products;'\n",
    "cursor.execute(sql_query)\n",
    "# insert data\n",
    "product_clean.to_sql('products',conn,if_exists='append',index=False)\n",
    "\n",
    "cursor.close()\n",
    "conn.close()"
   ]
  },
  {
   "cell_type": "markdown",
   "metadata": {},
   "source": [
    "### Insert product price table"
   ]
  },
  {
   "cell_type": "code",
   "execution_count": 87,
   "metadata": {},
   "outputs": [],
   "source": [
    "# connect to sqlite\n",
    "conn = sqlite3.connect('liquor.db')\n",
    "# make a cursor\n",
    "cursor = conn.cursor()\n",
    "# make tables\n",
    "sql_query = '''CREATE TABLE product_price(\n",
    "                   'Item Number' varchar(50),\n",
    "                   'Date' datetime64[ns],\n",
    "                   'State Bottle Retail' float(64),\n",
    "                   'State Bottle Cost' float(64),\n",
    "                   primary key ('Item Number', 'Date'),\n",
    "                   FOREIGN KEY ('Item Number') REFERENCES products('Item Number')\n",
    "                   );\n",
    "'''\n",
    "# sql_query = 'DROP TABLE product_price;'\n",
    "cursor.execute(sql_query)\n",
    "# insert data\n",
    "product_price.to_sql('product_price',conn,if_exists='append',index=False)\n",
    "\n",
    "cursor.close()\n",
    "conn.close()"
   ]
  },
  {
   "cell_type": "markdown",
   "metadata": {},
   "source": [
    "### Insert Vendors table"
   ]
  },
  {
   "cell_type": "code",
   "execution_count": 88,
   "metadata": {},
   "outputs": [],
   "source": [
    "# connect to sqlite\n",
    "conn = sqlite3.connect('liquor.db')\n",
    "# make a cursor\n",
    "cursor = conn.cursor()\n",
    "# make tables\n",
    "sql_query = '''CREATE TABLE vendors(\n",
    "                   'Vendor number' varchar(50) PRIMARY KEY,\n",
    "                   'Vendor name' varchar(50));'''\n",
    "#sql_query = 'DROP TABLE vendors;'\n",
    "cursor.execute(sql_query)\n",
    "# insert data\n",
    "Vendors_final.to_sql('vendors',conn,if_exists='append',index=False)\n",
    "\n",
    "cursor.close()\n",
    "conn.close()"
   ]
  },
  {
   "cell_type": "markdown",
   "metadata": {},
   "source": [
    "### Insert Transcation tables"
   ]
  },
  {
   "cell_type": "code",
   "execution_count": 89,
   "metadata": {},
   "outputs": [],
   "source": [
    "# connect to sqlite\n",
    "conn = sqlite3.connect('liquor.db')\n",
    "# make a cursor\n",
    "cursor = conn.cursor()\n",
    "# make tables\n",
    "sql_query = '''CREATE TABLE transactions(\n",
    "                   'Transaction ID' varchar(50) PRIMARY KEY,\n",
    "                   'Store Number' varchar(50),\n",
    "                   'Vendor Number' varchar(50),\n",
    "                   'Item Number' varchar(50),\n",
    "                   'Bottles Sold' interger,\n",
    "                   'Volume Sold' float(64),\n",
    "                   'Sale' float(64),\n",
    "                   'Date' datetime64[ns],\n",
    "                   FOREIGN KEY ('Vendor Number') REFERENCES vendors('Vendor Numver'),\n",
    "                   FOREIGN KEY ('Item Number','Date') REFERENCES product_price('Item Number','Date'),\n",
    "                   FOREIGN KEY ('Store Number') REFERENCES stores('Store Number')\n",
    "                   );\n",
    "'''\n",
    "#sql_query = 'DROP TABLE transactions;'\n",
    "cursor.execute(sql_query)\n",
    "# insert data\n",
    "Transcations.to_sql('transactions',conn,if_exists='append',index=False)\n",
    "\n",
    "cursor.close()\n",
    "conn.close()"
   ]
  },
  {
   "cell_type": "markdown",
   "metadata": {},
   "source": [
    "### Fetching table"
   ]
  },
  {
   "cell_type": "code",
   "execution_count": 92,
   "metadata": {},
   "outputs": [],
   "source": [
    "# Try fetching products table \n",
    "\n",
    "# connect to sqlite\n",
    "conn = sqlite3.connect('liquor.db')\n",
    "# make a cursor\n",
    "cursor = conn.cursor()\n",
    "# select data and transform it to df\n",
    "#query = '''SELECT \"Vendor name\" FROM vendors where \"Vendor number\"=10;'''\n",
    "query = '''SELECT * FROM transactions  ;\n",
    "\n",
    "\n",
    "'''\n",
    "cursor.execute(query)\n",
    "result = cursor.fetchall()\n",
    "\n",
    "cursor.close()\n",
    "conn.close()"
   ]
  },
  {
   "cell_type": "code",
   "execution_count": 93,
   "metadata": {},
   "outputs": [
    {
     "data": {
      "text/plain": [
       "19445831"
      ]
     },
     "execution_count": 93,
     "metadata": {},
     "output_type": "execute_result"
    }
   ],
   "source": [
    "len(result)"
   ]
  },
  {
   "cell_type": "code",
   "execution_count": 14,
   "metadata": {
    "scrolled": true
   },
   "outputs": [
    {
     "ename": "ValueError",
     "evalue": "6 columns passed, passed data had 8 columns",
     "output_type": "error",
     "traceback": [
      "\u001b[1;31m---------------------------------------------------------------------------\u001b[0m",
      "\u001b[1;31mAssertionError\u001b[0m                            Traceback (most recent call last)",
      "\u001b[1;32mD:\\anaconda\\lib\\site-packages\\pandas\\core\\internals\\construction.py\u001b[0m in \u001b[0;36m_list_to_arrays\u001b[1;34m(data, columns, coerce_float, dtype)\u001b[0m\n\u001b[0;32m    495\u001b[0m     \u001b[1;32mtry\u001b[0m\u001b[1;33m:\u001b[0m\u001b[1;33m\u001b[0m\u001b[1;33m\u001b[0m\u001b[0m\n\u001b[1;32m--> 496\u001b[1;33m         result = _convert_object_array(\n\u001b[0m\u001b[0;32m    497\u001b[0m             \u001b[0mcontent\u001b[0m\u001b[1;33m,\u001b[0m \u001b[0mcolumns\u001b[0m\u001b[1;33m,\u001b[0m \u001b[0mdtype\u001b[0m\u001b[1;33m=\u001b[0m\u001b[0mdtype\u001b[0m\u001b[1;33m,\u001b[0m \u001b[0mcoerce_float\u001b[0m\u001b[1;33m=\u001b[0m\u001b[0mcoerce_float\u001b[0m\u001b[1;33m\u001b[0m\u001b[1;33m\u001b[0m\u001b[0m\n",
      "\u001b[1;32mD:\\anaconda\\lib\\site-packages\\pandas\\core\\internals\\construction.py\u001b[0m in \u001b[0;36m_convert_object_array\u001b[1;34m(content, columns, coerce_float, dtype)\u001b[0m\n\u001b[0;32m    579\u001b[0m             \u001b[1;31m# caller's responsibility to check for this...\u001b[0m\u001b[1;33m\u001b[0m\u001b[1;33m\u001b[0m\u001b[1;33m\u001b[0m\u001b[0m\n\u001b[1;32m--> 580\u001b[1;33m             raise AssertionError(\n\u001b[0m\u001b[0;32m    581\u001b[0m                 \u001b[1;34mf\"{len(columns)} columns passed, passed data had \"\u001b[0m\u001b[1;33m\u001b[0m\u001b[1;33m\u001b[0m\u001b[0m\n",
      "\u001b[1;31mAssertionError\u001b[0m: 6 columns passed, passed data had 8 columns",
      "\nThe above exception was the direct cause of the following exception:\n",
      "\u001b[1;31mValueError\u001b[0m                                Traceback (most recent call last)",
      "\u001b[1;32m<ipython-input-14-6e90f9a194c2>\u001b[0m in \u001b[0;36m<module>\u001b[1;34m\u001b[0m\n\u001b[1;32m----> 1\u001b[1;33m pd.DataFrame(result,columns=['Item Number', 'Category', 'Category Name', 'Item Description',\n\u001b[0m\u001b[0;32m      2\u001b[0m        'Bottle Volume (ml)', 'Proof'])\n",
      "\u001b[1;32mD:\\anaconda\\lib\\site-packages\\pandas\\core\\frame.py\u001b[0m in \u001b[0;36m__init__\u001b[1;34m(self, data, index, columns, dtype, copy)\u001b[0m\n\u001b[0;32m    472\u001b[0m                     \u001b[1;32mif\u001b[0m \u001b[0mis_named_tuple\u001b[0m\u001b[1;33m(\u001b[0m\u001b[0mdata\u001b[0m\u001b[1;33m[\u001b[0m\u001b[1;36m0\u001b[0m\u001b[1;33m]\u001b[0m\u001b[1;33m)\u001b[0m \u001b[1;32mand\u001b[0m \u001b[0mcolumns\u001b[0m \u001b[1;32mis\u001b[0m \u001b[1;32mNone\u001b[0m\u001b[1;33m:\u001b[0m\u001b[1;33m\u001b[0m\u001b[1;33m\u001b[0m\u001b[0m\n\u001b[0;32m    473\u001b[0m                         \u001b[0mcolumns\u001b[0m \u001b[1;33m=\u001b[0m \u001b[0mdata\u001b[0m\u001b[1;33m[\u001b[0m\u001b[1;36m0\u001b[0m\u001b[1;33m]\u001b[0m\u001b[1;33m.\u001b[0m\u001b[0m_fields\u001b[0m\u001b[1;33m\u001b[0m\u001b[1;33m\u001b[0m\u001b[0m\n\u001b[1;32m--> 474\u001b[1;33m                     \u001b[0marrays\u001b[0m\u001b[1;33m,\u001b[0m \u001b[0mcolumns\u001b[0m \u001b[1;33m=\u001b[0m \u001b[0mto_arrays\u001b[0m\u001b[1;33m(\u001b[0m\u001b[0mdata\u001b[0m\u001b[1;33m,\u001b[0m \u001b[0mcolumns\u001b[0m\u001b[1;33m,\u001b[0m \u001b[0mdtype\u001b[0m\u001b[1;33m=\u001b[0m\u001b[0mdtype\u001b[0m\u001b[1;33m)\u001b[0m\u001b[1;33m\u001b[0m\u001b[1;33m\u001b[0m\u001b[0m\n\u001b[0m\u001b[0;32m    475\u001b[0m                     \u001b[0mcolumns\u001b[0m \u001b[1;33m=\u001b[0m \u001b[0mensure_index\u001b[0m\u001b[1;33m(\u001b[0m\u001b[0mcolumns\u001b[0m\u001b[1;33m)\u001b[0m\u001b[1;33m\u001b[0m\u001b[1;33m\u001b[0m\u001b[0m\n\u001b[0;32m    476\u001b[0m \u001b[1;33m\u001b[0m\u001b[0m\n",
      "\u001b[1;32mD:\\anaconda\\lib\\site-packages\\pandas\\core\\internals\\construction.py\u001b[0m in \u001b[0;36mto_arrays\u001b[1;34m(data, columns, coerce_float, dtype)\u001b[0m\n\u001b[0;32m    459\u001b[0m         \u001b[1;32mreturn\u001b[0m \u001b[1;33m[\u001b[0m\u001b[1;33m]\u001b[0m\u001b[1;33m,\u001b[0m \u001b[1;33m[\u001b[0m\u001b[1;33m]\u001b[0m  \u001b[1;31m# columns if columns is not None else []\u001b[0m\u001b[1;33m\u001b[0m\u001b[1;33m\u001b[0m\u001b[0m\n\u001b[0;32m    460\u001b[0m     \u001b[1;32mif\u001b[0m \u001b[0misinstance\u001b[0m\u001b[1;33m(\u001b[0m\u001b[0mdata\u001b[0m\u001b[1;33m[\u001b[0m\u001b[1;36m0\u001b[0m\u001b[1;33m]\u001b[0m\u001b[1;33m,\u001b[0m \u001b[1;33m(\u001b[0m\u001b[0mlist\u001b[0m\u001b[1;33m,\u001b[0m \u001b[0mtuple\u001b[0m\u001b[1;33m)\u001b[0m\u001b[1;33m)\u001b[0m\u001b[1;33m:\u001b[0m\u001b[1;33m\u001b[0m\u001b[1;33m\u001b[0m\u001b[0m\n\u001b[1;32m--> 461\u001b[1;33m         \u001b[1;32mreturn\u001b[0m \u001b[0m_list_to_arrays\u001b[0m\u001b[1;33m(\u001b[0m\u001b[0mdata\u001b[0m\u001b[1;33m,\u001b[0m \u001b[0mcolumns\u001b[0m\u001b[1;33m,\u001b[0m \u001b[0mcoerce_float\u001b[0m\u001b[1;33m=\u001b[0m\u001b[0mcoerce_float\u001b[0m\u001b[1;33m,\u001b[0m \u001b[0mdtype\u001b[0m\u001b[1;33m=\u001b[0m\u001b[0mdtype\u001b[0m\u001b[1;33m)\u001b[0m\u001b[1;33m\u001b[0m\u001b[1;33m\u001b[0m\u001b[0m\n\u001b[0m\u001b[0;32m    462\u001b[0m     \u001b[1;32melif\u001b[0m \u001b[0misinstance\u001b[0m\u001b[1;33m(\u001b[0m\u001b[0mdata\u001b[0m\u001b[1;33m[\u001b[0m\u001b[1;36m0\u001b[0m\u001b[1;33m]\u001b[0m\u001b[1;33m,\u001b[0m \u001b[0mabc\u001b[0m\u001b[1;33m.\u001b[0m\u001b[0mMapping\u001b[0m\u001b[1;33m)\u001b[0m\u001b[1;33m:\u001b[0m\u001b[1;33m\u001b[0m\u001b[1;33m\u001b[0m\u001b[0m\n\u001b[0;32m    463\u001b[0m         return _list_of_dict_to_arrays(\n",
      "\u001b[1;32mD:\\anaconda\\lib\\site-packages\\pandas\\core\\internals\\construction.py\u001b[0m in \u001b[0;36m_list_to_arrays\u001b[1;34m(data, columns, coerce_float, dtype)\u001b[0m\n\u001b[0;32m    498\u001b[0m         )\n\u001b[0;32m    499\u001b[0m     \u001b[1;32mexcept\u001b[0m \u001b[0mAssertionError\u001b[0m \u001b[1;32mas\u001b[0m \u001b[0me\u001b[0m\u001b[1;33m:\u001b[0m\u001b[1;33m\u001b[0m\u001b[1;33m\u001b[0m\u001b[0m\n\u001b[1;32m--> 500\u001b[1;33m         \u001b[1;32mraise\u001b[0m \u001b[0mValueError\u001b[0m\u001b[1;33m(\u001b[0m\u001b[0me\u001b[0m\u001b[1;33m)\u001b[0m \u001b[1;32mfrom\u001b[0m \u001b[0me\u001b[0m\u001b[1;33m\u001b[0m\u001b[1;33m\u001b[0m\u001b[0m\n\u001b[0m\u001b[0;32m    501\u001b[0m     \u001b[1;32mreturn\u001b[0m \u001b[0mresult\u001b[0m\u001b[1;33m\u001b[0m\u001b[1;33m\u001b[0m\u001b[0m\n\u001b[0;32m    502\u001b[0m \u001b[1;33m\u001b[0m\u001b[0m\n",
      "\u001b[1;31mValueError\u001b[0m: 6 columns passed, passed data had 8 columns"
     ]
    }
   ],
   "source": [
    "pd.DataFrame(result,columns=['Item Number', 'Category', 'Category Name', 'Item Description',\n",
    "       'Bottle Volume (ml)', 'Proof'])"
   ]
  },
  {
   "cell_type": "code",
   "execution_count": null,
   "metadata": {},
   "outputs": [],
   "source": [
    "product_price.columns"
   ]
  },
  {
   "cell_type": "code",
   "execution_count": null,
   "metadata": {},
   "outputs": [],
   "source": [
    "# Try fetching product_price table \n",
    "\n",
    "# connect to sqlite\n",
    "conn = sqlite3.connect('liquor.db')\n",
    "# make a cursor\n",
    "cursor = conn.cursor()\n",
    "# select data and transform it to df\n",
    "#query = '''SELECT \"Vendor name\" FROM vendors where \"Vendor number\"=10;'''\n",
    "query = '''SELECT * FROM product_price;\n",
    "\n",
    "\n",
    "'''\n",
    "cursor.execute(query)\n",
    "result1 = cursor.fetchone()\n",
    "\n",
    "cursor.close()\n",
    "conn.close()"
   ]
  },
  {
   "cell_type": "code",
   "execution_count": null,
   "metadata": {},
   "outputs": [],
   "source": [
    "result1"
   ]
  }
 ],
 "metadata": {
  "kernelspec": {
   "display_name": "Python 3",
   "language": "python",
   "name": "python3"
  },
  "language_info": {
   "codemirror_mode": {
    "name": "ipython",
    "version": 3
   },
   "file_extension": ".py",
   "mimetype": "text/x-python",
   "name": "python",
   "nbconvert_exporter": "python",
   "pygments_lexer": "ipython3",
   "version": "3.8.3"
  }
 },
 "nbformat": 4,
 "nbformat_minor": 4
}
